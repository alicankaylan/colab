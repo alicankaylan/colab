{
  "nbformat": 4,
  "nbformat_minor": 0,
  "metadata": {
    "colab": {
      "name": "colab.ipynb",
      "version": "0.3.2",
      "provenance": [],
      "collapsed_sections": [],
      "include_colab_link": true
    },
    "kernelspec": {
      "name": "python3",
      "display_name": "Python 3"
    }
  },
  "cells": [
    {
      "cell_type": "markdown",
      "metadata": {
        "id": "view-in-github",
        "colab_type": "text"
      },
      "source": [
        "<a href=\"https://colab.research.google.com/github/alicankaylan/colab/blob/master/colab.ipynb\" target=\"_parent\"><img src=\"https://colab.research.google.com/assets/colab-badge.svg\" alt=\"Open In Colab\"/></a>"
      ]
    },
    {
      "metadata": {
        "id": "cBoOgPfJd0jR",
        "colab_type": "code",
        "colab": {
          "base_uri": "https://localhost:8080/",
          "height": 63
        },
        "outputId": "f3fd6347-ff61-48e6-92bb-aa3cdd548f99"
      },
      "cell_type": "code",
      "source": [
        "!python --version"
      ],
      "execution_count": 1,
      "outputs": [
        {
          "output_type": "stream",
          "text": [
            "Python 3.6.7\n"
          ],
          "name": "stdout"
        }
      ]
    },
    {
      "metadata": {
        "id": "-a7EIVg9jKxu",
        "colab_type": "code",
        "colab": {
          "base_uri": "https://localhost:8080/",
          "height": 63
        },
        "outputId": "c5d09712-51d5-4797-bcba-a3e2449db713"
      },
      "cell_type": "code",
      "source": [
        "!hostname"
      ],
      "execution_count": 2,
      "outputs": [
        {
          "output_type": "stream",
          "text": [
            "912b8fc01d32\n"
          ],
          "name": "stdout"
        }
      ]
    },
    {
      "metadata": {
        "id": "Ki8hOTBAo3xB",
        "colab_type": "code",
        "colab": {
          "base_uri": "https://localhost:8080/",
          "height": 34
        },
        "outputId": "d1e3dc1a-d214-4f62-b44a-4ee6e2ebe1b4"
      },
      "cell_type": "code",
      "source": [
        "try:\n",
        "    assert 5 == 6\n",
        "except AssertionError:\n",
        "    print('Assertion Error Handled')"
      ],
      "execution_count": 4,
      "outputs": [
        {
          "output_type": "stream",
          "text": [
            "Assertion Error Handled\n"
          ],
          "name": "stdout"
        }
      ]
    },
    {
      "metadata": {
        "id": "kSheRJTJyY_a",
        "colab_type": "code",
        "colab": {
          "base_uri": "https://localhost:8080/",
          "height": 51
        },
        "outputId": "d6831bf7-d454-4b3b-a526-3734301b48b7"
      },
      "cell_type": "code",
      "source": [
        "def function1 ( arg1 : str , * , q = None) -> str:\n",
        "    print(arg1 + ' str in str out')\n",
        "\n",
        "function1('hello')\n",
        "\n",
        "try:\n",
        "    function1(5)\n",
        "except TypeError:\n",
        "    print('TypeError handled')"
      ],
      "execution_count": 9,
      "outputs": [
        {
          "output_type": "stream",
          "text": [
            "hello str in str out\n",
            "TypeError handled\n"
          ],
          "name": "stdout"
        }
      ]
    },
    {
      "metadata": {
        "id": "yrRYE_XHzg5-",
        "colab_type": "code",
        "colab": {}
      },
      "cell_type": "code",
      "source": [
        ""
      ],
      "execution_count": 0,
      "outputs": []
    }
  ]
}